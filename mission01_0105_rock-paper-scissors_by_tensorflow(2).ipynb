{
 "cells": [
  {
   "cell_type": "markdown",
   "metadata": {},
   "source": [
    "# [ 가위바위보 분류기 ]"
   ]
  },
  {
   "cell_type": "markdown",
   "metadata": {},
   "source": [
    "## Step_0. 필요한 패키지 import"
   ]
  },
  {
   "cell_type": "code",
   "execution_count": 1,
   "metadata": {},
   "outputs": [
    {
     "name": "stdout",
     "output_type": "stream",
     "text": [
      "PIL library import complete\n"
     ]
    }
   ],
   "source": [
    "import tensorflow as tf\n",
    "from tensorflow import keras\n",
    "\n",
    "import numpy as np\n",
    "import matplotlib.pyplot as plt\n",
    "\n",
    "from PIL import Image\n",
    "import os, glob\n",
    "\n",
    "print(\"PIL library import complete\")"
   ]
  },
  {
   "cell_type": "markdown",
   "metadata": {},
   "source": [
    "## Step_1. train data 준비"
   ]
  },
  {
   "cell_type": "code",
   "execution_count": 2,
   "metadata": {},
   "outputs": [
    {
     "name": "stdout",
     "output_type": "stream",
     "text": [
      "=> 이미지 디렉토리 경로: /home/myungjin-kim/practice/rock_scissor_paper\n",
      "가위 이미지 resize 완료!\n",
      "바위 이미지 resize 완료!\n",
      "보 이미지 resize 완료!\n"
     ]
    }
   ],
   "source": [
    "# x_train 이미지 28x28 사이즈로 변경\n",
    "\n",
    "import os\n",
    "# 가위 이미지가 저장된 디렉토리 아래의 모든 jpg 파일을 읽어들여서\n",
    "image_dir_path = os.getenv(\"HOME\")+\"/practice/rock_scissor_paper\"\n",
    "print(\"=> 이미지 디렉토리 경로:\", image_dir_path)\n",
    "\n",
    "images_scissor = glob.glob(image_dir_path + \"/train_set/scissor_jpg/*.*\")\n",
    "images_rock = glob.glob(image_dir_path + \"/train_set/rock_jpg/*.*\")\n",
    "images_paper = glob.glob(image_dir_path + \"/train_set/paper_jpg/*.*\")\n",
    "\n",
    "# 파일마다 모두 28X28 사이즈로 바꾸어 저장\n",
    "target_size = (28, 28)\n",
    "for img in images_scissor:\n",
    "    old_img = Image.open(img)\n",
    "    new_img = old_img.resize(target_size, Image.ANTIALIAS)\n",
    "    new_img.save(img,\"JPEG\")\n",
    "print(\"가위 이미지 resize 완료!\")\n",
    "\n",
    "for img in images_rock:\n",
    "    old_img = Image.open(img)\n",
    "    new_img = old_img.resize(target_size, Image.ANTIALIAS)\n",
    "    new_img.save(img,\"JPEG\")\n",
    "print(\"바위 이미지 resize 완료!\")\n",
    "\n",
    "for img in images_paper:\n",
    "    old_img = Image.open(img)\n",
    "    new_img = old_img.resize(target_size, Image.ANTIALIAS)\n",
    "    new_img.save(img,\"JPEG\")\n",
    "print(\"보 이미지 resize 완료!\")"
   ]
  },
  {
   "cell_type": "code",
   "execution_count": 6,
   "metadata": {},
   "outputs": [
    {
     "name": "stdout",
     "output_type": "stream",
     "text": [
      "학습데이터(x_train)의 이미지 개수는 3080 입니다.\n",
      "x_train shape: (3080, 28, 28, 3)\n",
      "y_train shape: (3080,)\n"
     ]
    }
   ],
   "source": [
    "# y_train 라벨링\n",
    "\n",
    "def load_data(img_path):\n",
    "    \n",
    "    # 가위 : 0, 바위 : 1, 보 : 2\n",
    "    number_of_data = 3080   # 총 이미지 개수\n",
    "    img_size = 28\n",
    "    color = 3\n",
    "    \n",
    "    imgs = np.zeros(number_of_data*img_size*img_size*color,dtype=np.int32).reshape(number_of_data,img_size,img_size,color)\n",
    "    labels = np.zeros(number_of_data,dtype=np.int32)\n",
    "\n",
    "    idx = 0\n",
    "    for file in glob.iglob(img_path+'/scissor_jpg/*.jpg'):\n",
    "        img = np.array(Image.open(file),dtype=np.int32)\n",
    "        imgs[idx,:,:,:]=img    # 데이터 영역에 이미지 행렬을 복사\n",
    "        labels[idx]=0   # 가위 : 0\n",
    "        idx=idx+1\n",
    "\n",
    "    for file in glob.iglob(img_path+'/rock/_jpg/*.jpg'):\n",
    "        img = np.array(Image.open(file),dtype=np.int32)\n",
    "        imgs[idx,:,:,:]=img    # 데이터 영역에 이미지 행렬을 복사\n",
    "        labels[idx]=1   # 바위 : 1\n",
    "        idx=idx+1       \n",
    "    \n",
    "    for file in glob.iglob(img_path+'/paper_jpg/*.jpg'):\n",
    "        img = np.array(Image.open(file),dtype=np.int32)\n",
    "        imgs[idx,:,:,:]=img    # 데이터 영역에 이미지 행렬을 복사\n",
    "        labels[idx]=2   # 보 : 2\n",
    "        idx=idx+1\n",
    "        \n",
    "    print(\"학습데이터(x_train)의 이미지 개수는\",idx,\"입니다.\")\n",
    "    return imgs, labels\n",
    "\n",
    "image_dir_path = os.getenv(\"HOME\") + \"/practice/rock_scissor_paper/train_set\"\n",
    "(x_train, y_train) = load_data(image_dir_path)\n",
    "\n",
    "x_train_norm = x_train/255.0   # 입력은 0~1 사이의 값으로 정규화\n",
    "\n",
    "print(\"x_train shape: {}\".format(x_train.shape))\n",
    "print(\"y_train shape: {}\".format(y_train.shape))"
   ]
  },
  {
   "cell_type": "code",
   "execution_count": 9,
   "metadata": {},
   "outputs": [
    {
     "name": "stdout",
     "output_type": "stream",
     "text": [
      "x_train의 최솟값: 0 , x_train의 최댓값: 255\n",
      "x_train_norm의 최솟값: 0.0 , x_train_norm의 최댓값: 1.0\n"
     ]
    }
   ],
   "source": [
    "print('x_train의 최솟값:', np.min(x_train), ', x_train의 최댓값:', np.max(x_train))\n",
    "\n",
    "print('x_train_norm의 최솟값:', np.min(x_train_norm), ', x_train_norm의 최댓값:', np.max(x_train_norm))"
   ]
  },
  {
   "cell_type": "markdown",
   "metadata": {},
   "source": [
    "## Step_2. model 설계"
   ]
  },
  {
   "cell_type": "code",
   "execution_count": 11,
   "metadata": {},
   "outputs": [
    {
     "name": "stdout",
     "output_type": "stream",
     "text": [
      "Model: \"sequential\"\n",
      "_________________________________________________________________\n",
      "Layer (type)                 Output Shape              Param #   \n",
      "=================================================================\n",
      "conv2d (Conv2D)              (None, 26, 26, 32)        896       \n",
      "_________________________________________________________________\n",
      "max_pooling2d (MaxPooling2D) (None, 13, 13, 32)        0         \n",
      "_________________________________________________________________\n",
      "conv2d_1 (Conv2D)            (None, 11, 11, 64)        18496     \n",
      "_________________________________________________________________\n",
      "max_pooling2d_1 (MaxPooling2 (None, 5, 5, 64)          0         \n",
      "_________________________________________________________________\n",
      "flatten (Flatten)            (None, 1600)              0         \n",
      "_________________________________________________________________\n",
      "dense (Dense)                (None, 32)                51232     \n",
      "_________________________________________________________________\n",
      "dense_1 (Dense)              (None, 3)                 99        \n",
      "=================================================================\n",
      "Total params: 70,723\n",
      "Trainable params: 70,723\n",
      "Non-trainable params: 0\n",
      "_________________________________________________________________\n"
     ]
    }
   ],
   "source": [
    "import tensorflow as tf\n",
    "from tensorflow import keras\n",
    "import numpy as np\n",
    "\n",
    "# model을 직접 만들어 보세요.\n",
    "# Hint! model의 입력/출력부에 특히 유의해 주세요. 가위바위보 데이터셋은 MNIST 데이터셋과 어떤 점이 달라졌나요?\n",
    "\n",
    "n_channel_1 = 32\n",
    "n_channel_2 = 64\n",
    "n_dense = 32\n",
    "n_train_epoch = 15\n",
    "\n",
    "model = keras.models.Sequential()\n",
    "model.add(keras.layers.Conv2D(n_channel_1, (3,3), activation='relu', input_shape=(28,28,3)))\n",
    "model.add(keras.layers.MaxPool2D(2,2))\n",
    "model.add(keras.layers.Conv2D(n_channel_2, (3,3), activation='relu'))\n",
    "model.add(keras.layers.MaxPooling2D((2,2)))\n",
    "model.add(keras.layers.Flatten())\n",
    "model.add(keras.layers.Dense(n_dense, activation='relu'))\n",
    "model.add(keras.layers.Dense(3, activation='softmax'))\n",
    "\n",
    "model.summary()"
   ]
  },
  {
   "cell_type": "markdown",
   "metadata": {},
   "source": [
    "## Step_3. model training"
   ]
  },
  {
   "cell_type": "code",
   "execution_count": 12,
   "metadata": {},
   "outputs": [
    {
     "name": "stdout",
     "output_type": "stream",
     "text": [
      "Epoch 1/15\n",
      "97/97 [==============================] - 1s 10ms/step - loss: 0.6400 - accuracy: 0.6127\n",
      "Epoch 2/15\n",
      "97/97 [==============================] - 1s 10ms/step - loss: 0.3794 - accuracy: 0.8201\n",
      "Epoch 3/15\n",
      "97/97 [==============================] - 1s 10ms/step - loss: 0.2754 - accuracy: 0.8766\n",
      "Epoch 4/15\n",
      "97/97 [==============================] - 1s 11ms/step - loss: 0.2140 - accuracy: 0.9058\n",
      "Epoch 5/15\n",
      "97/97 [==============================] - 1s 11ms/step - loss: 0.1739 - accuracy: 0.9224\n",
      "Epoch 6/15\n",
      "97/97 [==============================] - 1s 10ms/step - loss: 0.1428 - accuracy: 0.9393\n",
      "Epoch 7/15\n",
      "97/97 [==============================] - 1s 11ms/step - loss: 0.1199 - accuracy: 0.9516\n",
      "Epoch 8/15\n",
      "97/97 [==============================] - 1s 10ms/step - loss: 0.0952 - accuracy: 0.9597\n",
      "Epoch 9/15\n",
      "97/97 [==============================] - 1s 10ms/step - loss: 0.0814 - accuracy: 0.9666\n",
      "Epoch 10/15\n",
      "97/97 [==============================] - 1s 10ms/step - loss: 0.0669 - accuracy: 0.9740\n",
      "Epoch 11/15\n",
      "97/97 [==============================] - 1s 10ms/step - loss: 0.0656 - accuracy: 0.9731\n",
      "Epoch 12/15\n",
      "97/97 [==============================] - 1s 11ms/step - loss: 0.0513 - accuracy: 0.9821\n",
      "Epoch 13/15\n",
      "97/97 [==============================] - 1s 10ms/step - loss: 0.0431 - accuracy: 0.9860\n",
      "Epoch 14/15\n",
      "97/97 [==============================] - 1s 11ms/step - loss: 0.0357 - accuracy: 0.9893\n",
      "Epoch 15/15\n",
      "97/97 [==============================] - 1s 11ms/step - loss: 0.0293 - accuracy: 0.9916\n"
     ]
    },
    {
     "data": {
      "text/plain": [
       "<tensorflow.python.keras.callbacks.History at 0x7f6733210f28>"
      ]
     },
     "execution_count": 12,
     "metadata": {},
     "output_type": "execute_result"
    }
   ],
   "source": [
    "# model.compile(), model.fit()\n",
    "\n",
    "model.compile(optimizer='adam',\n",
    "             loss='sparse_categorical_crossentropy',\n",
    "             metrics=['accuracy'])\n",
    "\n",
    "model.fit(x_train_norm, y_train, epochs = n_train_epoch)\n"
   ]
  },
  {
   "cell_type": "markdown",
   "metadata": {},
   "source": [
    "## Step_4. test data 준비"
   ]
  },
  {
   "cell_type": "code",
   "execution_count": 13,
   "metadata": {},
   "outputs": [
    {
     "name": "stdout",
     "output_type": "stream",
     "text": [
      "=> 이미지 디렉토리 경로: /home/myungjin-kim/practice/rock_scissor_paper\n",
      "가위 이미지 resize 완료!\n",
      "바위 이미지 resize 완료!\n",
      "보 이미지 resize 완료!\n"
     ]
    }
   ],
   "source": [
    "# 이미지를 불러와서 28x28 사이즈로 변경할 겁니다. \n",
    "\n",
    "import os\n",
    "# 이미지가 저장된 디렉토리 아래의 모든 jpg 파일을 읽어들여서\n",
    "image_dir_path = os.getenv(\"HOME\")+\"/practice/rock_scissor_paper\"\n",
    "print(\"=> 이미지 디렉토리 경로:\", image_dir_path)\n",
    "\n",
    "images_scissor = glob.glob(image_dir_path + \"/test_set/scissor/*.jpg\")\n",
    "images_rock = glob.glob(image_dir_path + \"/test_set/rock/*.jpg\")\n",
    "images_paper = glob.glob(image_dir_path + \"/test_set/paper/*.jpg\")\n",
    "\n",
    "# 파일마다 모두 28X28 사이즈로 바꾸어 저장\n",
    "target_size = (28, 28)\n",
    "\n",
    "for img in images_scissor:\n",
    "    old_img = Image.open(img)\n",
    "    new_img = old_img.resize(target_size, Image.ANTIALIAS)\n",
    "    new_img.save(img,\"JPEG\")\n",
    "print(\"가위 이미지 resize 완료!\")\n",
    "\n",
    "for img in images_rock:\n",
    "    old_img = Image.open(img)\n",
    "    new_img = old_img.resize(target_size, Image.ANTIALIAS)\n",
    "    new_img.save(img,\"JPEG\")\n",
    "print(\"바위 이미지 resize 완료!\")\n",
    "\n",
    "for img in images_paper:\n",
    "    old_img = Image.open(img)\n",
    "    new_img = old_img.resize(target_size, Image.ANTIALIAS)\n",
    "    new_img.save(img,\"JPEG\")\n",
    "print(\"보 이미지 resize 완료!\")\n"
   ]
  },
  {
   "cell_type": "code",
   "execution_count": 17,
   "metadata": {},
   "outputs": [
    {
     "name": "stdout",
     "output_type": "stream",
     "text": [
      "학습데이터(x_train)의 이미지 개수는 311 입니다.\n",
      "x_test shape: (311, 28, 28, 3)\n",
      "y_test shape: (311,)\n"
     ]
    }
   ],
   "source": [
    "def load_data(img_path):\n",
    "    # 가위 : 0, 바위 : 1, 보 : 2\n",
    "    number_of_data = 311  # 가위바위보 이미지 개수 총합에 주의하세요.\n",
    "    img_size = 28\n",
    "    color = 3\n",
    "    #이미지 데이터와 라벨(가위 : 0, 바위 : 1, 보 : 2) 데이터를 담을 행렬(matrix) 영역을 생성합니다.\n",
    "    imgs = np.zeros(number_of_data*img_size*img_size*color,dtype=np.int32).reshape(number_of_data,img_size,img_size,color)\n",
    "    labels = np.zeros(number_of_data,dtype=np.int32)\n",
    "\n",
    "    idx = 0\n",
    "    for file in glob.iglob(img_path+'/scissor/*.jpg'):\n",
    "        img = np.array(Image.open(file),dtype=np.int32)\n",
    "        imgs[idx,:,:,:]=img    # 데이터 영역에 이미지 행렬을 복사\n",
    "        labels[idx]=0   # 가위 : 0\n",
    "        idx=idx+1\n",
    "\n",
    "    for file in glob.iglob(img_path+'/rock/*.jpg'):\n",
    "        img = np.array(Image.open(file),dtype=np.int32)\n",
    "        imgs[idx,:,:,:]=img    # 데이터 영역에 이미지 행렬을 복사\n",
    "        labels[idx]=1   # 바위 : 1\n",
    "        idx=idx+1       \n",
    "    \n",
    "    for file in glob.iglob(img_path+'/paper/*.jpg'):\n",
    "        img = np.array(Image.open(file),dtype=np.int32)\n",
    "        imgs[idx,:,:,:]=img    # 데이터 영역에 이미지 행렬을 복사\n",
    "        labels[idx]=2   # 보 : 2\n",
    "        idx=idx+1\n",
    "        \n",
    "    print(\"학습데이터(x_train)의 이미지 개수는\",idx,\"입니다.\")\n",
    "    return imgs, labels\n",
    "\n",
    "image_dir_path = os.getenv(\"HOME\") + \"/practice/rock_scissor_paper/test_set\"\n",
    "(x_test, y_test)=load_data(image_dir_path)\n",
    "x_test_norm = x_test/208.0   # 입력은 0~1 사이의 값으로 정규화\n",
    "\n",
    "print(\"x_test shape: {}\".format(x_test.shape))\n",
    "print(\"y_test shape: {}\".format(y_test.shape))"
   ]
  },
  {
   "cell_type": "code",
   "execution_count": 18,
   "metadata": {},
   "outputs": [
    {
     "name": "stdout",
     "output_type": "stream",
     "text": [
      "x_test의 최솟값: 0 , x_test의 최댓값: 208\n",
      "x_test_norm의 최솟값: 0.0 , x_test_norm의 최댓값: 1.0\n"
     ]
    }
   ],
   "source": [
    "print('x_test의 최솟값:', np.min(x_test), ', x_test의 최댓값:', np.max(x_test))\n",
    "\n",
    "print('x_test_norm의 최솟값:', np.min(x_test_norm), ', x_test_norm의 최댓값:', np.max(x_test_norm))"
   ]
  },
  {
   "cell_type": "markdown",
   "metadata": {},
   "source": [
    "## Step_5. test"
   ]
  },
  {
   "cell_type": "code",
   "execution_count": 19,
   "metadata": {},
   "outputs": [
    {
     "name": "stdout",
     "output_type": "stream",
     "text": [
      "10/10 - 0s - loss: 5.9083 - accuracy: 0.6592\n",
      "\n"
     ]
    }
   ],
   "source": [
    "test_loss, test_accuracy = model.evaluate(x_test_norm, y_test, verbose=2)\n",
    "print()"
   ]
  },
  {
   "cell_type": "markdown",
   "metadata": {},
   "source": [
    "## [ 진행사항 ]\n",
    "\n",
    "1. 1차시도\n",
    "\n",
    "train data = 3080 (정규화 완료) / test data = 311 (정규화 완료)\n",
    "\n",
    "n_channel_1 = 32\n",
    "n_channel_2 = 64\n",
    "n_dense = 32\n",
    "n_train_epoch = 15\n",
    "\n",
    "=> result: loss: 5.9083 / accuracy: 0.6592\n",
    "\n",
    "\n",
    "2. 2차시도\n",
    "\n",
    "train data = 3080 (정규화 완료) / test data = 311 (정규화 완료)\n",
    "\n",
    "n_channel_1 = 32\n",
    "n_channel_2 = 64\n",
    "n_dense = 32\n",
    "n_train_epoch = 15\n",
    "\n",
    "=> result: loss: 5.9083 / accuracy: 0.6592"
   ]
  },
  {
   "cell_type": "code",
   "execution_count": null,
   "metadata": {},
   "outputs": [],
   "source": []
  },
  {
   "cell_type": "markdown",
   "metadata": {},
   "source": [
    "## [ 회 고 ]\n",
    "\n",
    "1. 이번 프로젝트에서 어려웠던 점\n",
    "\n",
    "\n",
    "2. 프로젝트를 진행하면서 알아낸 점 혹은 아직 모호한 점.\n",
    "\n",
    "- 알아낸 점:\n",
    "\n",
    "- 모호한 점: vali\n",
    "\n",
    "3. 루브릭 평가 지표를 맞추기 위해 시도한 것들.\n",
    "\n",
    "\n",
    "4. 만약에 루브릭 평가 관련 지표를 달성 하지 못했을 때, 이유에 관한 추정.\n",
    "자기 다짐"
   ]
  },
  {
   "cell_type": "code",
   "execution_count": null,
   "metadata": {},
   "outputs": [],
   "source": []
  },
  {
   "cell_type": "code",
   "execution_count": null,
   "metadata": {},
   "outputs": [],
   "source": []
  },
  {
   "cell_type": "code",
   "execution_count": null,
   "metadata": {},
   "outputs": [],
   "source": []
  },
  {
   "cell_type": "code",
   "execution_count": null,
   "metadata": {},
   "outputs": [],
   "source": []
  },
  {
   "cell_type": "code",
   "execution_count": null,
   "metadata": {},
   "outputs": [],
   "source": []
  }
 ],
 "metadata": {
  "kernelspec": {
   "display_name": "Python 3",
   "language": "python",
   "name": "python3"
  },
  "language_info": {
   "codemirror_mode": {
    "name": "ipython",
    "version": 3
   },
   "file_extension": ".py",
   "mimetype": "text/x-python",
   "name": "python",
   "nbconvert_exporter": "python",
   "pygments_lexer": "ipython3",
   "version": "3.7.3"
  }
 },
 "nbformat": 4,
 "nbformat_minor": 2
}
