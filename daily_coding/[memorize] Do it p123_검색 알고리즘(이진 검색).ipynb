{
 "cells": [
  {
   "cell_type": "markdown",
   "metadata": {},
   "source": [
    "## 3장. 검색 알고리즘 - 이진 검색"
   ]
  },
  {
   "cell_type": "code",
   "execution_count": 1,
   "metadata": {},
   "outputs": [],
   "source": [
    "# 시퀀스 a에서 key와 일치하는 원소를 이진 검색 < bin_search >\n",
    "\n",
    "def bin_search(a, key):\n",
    "\n",
    "    pl = 0\n",
    "    pr = len(a)-1\n",
    "\n",
    "    while True:\n",
    "        pc = (pl+pr)//2\n",
    "        \n",
    "        if a[pc] == key:\n",
    "            return pc              # 검색 성공!!\n",
    "        elif a[pc] < key:\n",
    "            pl = pc+1       # 검색 범위를 뒷쪽 절반으로 좁힘\n",
    "        else: \n",
    "            pr = pc-1       # 검색 범위를 앞쪽 절반으로 좁힘\n",
    "        \n",
    "        if pl > pr: break\n",
    "    return -1                     # 검색 실패"
   ]
  },
  {
   "cell_type": "markdown",
   "metadata": {},
   "source": [
    "### [ 원 본 ]"
   ]
  },
  {
   "cell_type": "code",
   "execution_count": 9,
   "metadata": {},
   "outputs": [
    {
     "name": "stdout",
     "output_type": "stream",
     "text": [
      "원소 개수를 입력하세요: 5\n",
      "배열 데이터를 오름차순으로 입력하세요\n",
      "x[0]:  2\n",
      "x[1]: 4\n",
      "x[2]: 6\n",
      "x[3]: 9\n",
      "x[4]: 5\n",
      "x[4]: 7\n",
      "x[4]: 12\n",
      "[2, 4, 6, 9, 12]\n",
      "검색할 값을 입력하세요4\n",
      "검색값은 x[1]에 있습니다\n"
     ]
    }
   ],
   "source": [
    "if __name__ == '__main__':\n",
    "    num = int(input('원소 개수를 입력하세요: '))\n",
    "    x = [None] * num   # 입력한 원소 개수만큼의 크기가 num인 배열을 생성\n",
    "    \n",
    "# ---------------------------------------------------------------------------    \n",
    "    print('배열 데이터를 오름차순으로 입력하세요')\n",
    "\n",
    "    x[0] = int(input('x[0]:  '))\n",
    "    for i in range(1, num):\n",
    "        while True:\n",
    "            x[i] = int(input(f'x[{i}]: '))\n",
    "            if x[i] >= x[i-1]:    # 바로 직전에 입력한 원솟값보다 큰 값을 입력\n",
    "                break\n",
    "    print(x)\n",
    "# ---------------------------------------------------------------------------     \n",
    "    \n",
    "    ky = int(input('검색할 값을 입력하세요'))  # 검색할 키값 ky을 입력\n",
    "\n",
    "    idx = bin_search(x,ky)\n",
    "\n",
    "    if idx == -1: print('검색 실패')\n",
    "    else: print(f'검색값은 x[{idx}]에 있습니다')"
   ]
  },
  {
   "cell_type": "markdown",
   "metadata": {},
   "source": [
    "### [ 고민 1 ]"
   ]
  },
  {
   "cell_type": "code",
   "execution_count": 10,
   "metadata": {},
   "outputs": [
    {
     "name": "stdout",
     "output_type": "stream",
     "text": [
      "원소 개수를 입력하세요: 5\n",
      "x[0]: 9\n",
      "x[1]: 6\n",
      "x[2]: 2\n",
      "x[3]: 4\n",
      "x[4]: 12\n",
      "검색할 값을 입력하세요4\n",
      "검색값은 x[1]에 있습니다\n"
     ]
    }
   ],
   "source": [
    "if __name__ == '__main__':\n",
    "    num = int(input('원소 개수를 입력하세요: '))\n",
    "    x = [None] * num   # 입력한 원소 개수만큼의 크기가 num인 배열을 생성\n",
    "\n",
    "# --------------------------------------------------------------------------    \n",
    "    for i in range(num):\n",
    "        x[i] = int(input(f'x[{i}]: '))\n",
    "                    \n",
    "    x.sort()\n",
    "# --------------------------------------------------------------------------     \n",
    "# --[문제점] 검색한 ky값의 위치가 sort로 재설정 되어 원래 위치를 찾을 수 없음---\n",
    "# -------------------------------------------------------------------------- \n",
    "    ky = int(input('검색할 값을 입력하세요'))  # 검색할 키값 ky 입력\n",
    "                    \n",
    "    idx = bin_search(x, ky)\n",
    "                    \n",
    "    if idx == -1: print('검색값을 갖는 원소가 존재하지 않습니다')\n",
    "    else: print(f'검색값은 x[{idx}]에 있습니다')"
   ]
  },
  {
   "cell_type": "code",
   "execution_count": null,
   "metadata": {},
   "outputs": [],
   "source": []
  },
  {
   "cell_type": "code",
   "execution_count": null,
   "metadata": {},
   "outputs": [],
   "source": []
  }
 ],
 "metadata": {
  "kernelspec": {
   "display_name": "Python 3",
   "language": "python",
   "name": "python3"
  },
  "language_info": {
   "codemirror_mode": {
    "name": "ipython",
    "version": 3
   },
   "file_extension": ".py",
   "mimetype": "text/x-python",
   "name": "python",
   "nbconvert_exporter": "python",
   "pygments_lexer": "ipython3",
   "version": "3.7.3"
  }
 },
 "nbformat": 4,
 "nbformat_minor": 2
}
