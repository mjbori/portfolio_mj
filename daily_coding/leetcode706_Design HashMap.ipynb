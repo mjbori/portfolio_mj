{
 "cells": [
  {
   "cell_type": "markdown",
   "metadata": {},
   "source": [
    "## [ Problem ]\n",
    "\n",
    "Design a HashMap without using any built-in hash table libraries.             \n",
    "\n",
    "To be specific, your design should include these functions:         \n",
    "\n",
    "`put(key, value)` : Insert a (key, value) pair into the HashMap. If the value already exists in the HashMap, update the value.          \n",
    "`get(key)`: Returns the value to which the specified key is mapped, or -1 if this map contains no mapping for the key.           \n",
    "`remove(key)` : Remove the mapping for the value key if this map contains the mapping for the key.           \n",
    "\n",
    "### Example:\n",
    "\n",
    "    MyHashMap hashMap = new MyHashMap();\n",
    "    hashMap.put(1, 1);          \n",
    "    hashMap.put(2, 2);         \n",
    "    hashMap.get(1);            // returns 1\n",
    "    hashMap.get(3);            // returns -1 (not found)\n",
    "    hashMap.put(2, 1);          // update the existing value\n",
    "    hashMap.get(2);            // returns 1 \n",
    "    hashMap.remove(2);          // remove the mapping for 2\n",
    "    hashMap.get(2);            // returns -1 (not found) \n",
    "\n",
    "### Note:\n",
    "\n",
    "All keys and values will be in the range of [0, 1000000].           \n",
    "The number of operations will be in the range of [1, 10000].               \n",
    "Please do not use the built-in HashMap library.\n"
   ]
  },
  {
   "cell_type": "markdown",
   "metadata": {},
   "source": [
    "## [ Solution ]"
   ]
  },
  {
   "cell_type": "code",
   "execution_count": 1,
   "metadata": {},
   "outputs": [],
   "source": [
    "# hash class\n",
    "\n",
    "class MyHashMap:\n",
    "\n",
    "    def __init__(self):\n",
    "        \"\"\"\n",
    "        Initialize your data structure here.\n",
    "        \"\"\"\n",
    "        \n",
    "    def put(self, key: int, value: int) -> None:\n",
    "        \"\"\"\n",
    "        value will always be non-negative.\n",
    "        \"\"\"        \n",
    "\n",
    "    def get(self, key: int) -> int:\n",
    "        \"\"\"\n",
    "        Returns the value to which the specified key is mapped, or -1 if this map contains no mapping for the key\n",
    "        \"\"\"\n",
    "        \n",
    "    def remove(self, key: int) -> None:\n",
    "        \"\"\"\n",
    "        Removes the mapping of the specified value key if this map contains a mapping for the key\n",
    "        \"\"\"\n",
    "        \n",
    "# Your MyHashMap object will be instantiated and called as such:\n",
    "# obj = MyHashMap()\n",
    "# obj.put(key,value)\n",
    "# param_2 = obj.get(key)\n",
    "# obj.remove(key)"
   ]
  },
  {
   "cell_type": "markdown",
   "metadata": {},
   "source": [
    "### [ My solution ]"
   ]
  },
  {
   "cell_type": "code",
   "execution_count": null,
   "metadata": {},
   "outputs": [],
   "source": [
    "class MyHashMap:\n",
    "\n",
    "    def __init__(self):\n",
    "        self.hs=[]\n",
    "        \n",
    "    def put(self, key: int, value: int) -> None:\n",
    "        if key not in self.hs:\n",
    "            self.hs.append(key)\n",
    "\n",
    "    def get(self, key: int) -> int:\n",
    "\n",
    "        \n",
    "    def remove(self, key: int) -> None:\n",
    "        if key in self.hs:\n",
    "            self.hs(key)        \n",
    "        "
   ]
  },
  {
   "cell_type": "code",
   "execution_count": null,
   "metadata": {},
   "outputs": [],
   "source": []
  },
  {
   "cell_type": "markdown",
   "metadata": {},
   "source": [
    "### [ soution 1 ] "
   ]
  },
  {
   "cell_type": "code",
   "execution_count": null,
   "metadata": {},
   "outputs": [],
   "source": []
  },
  {
   "cell_type": "code",
   "execution_count": null,
   "metadata": {},
   "outputs": [],
   "source": []
  },
  {
   "cell_type": "markdown",
   "metadata": {},
   "source": [
    "### [ soution 2 ] "
   ]
  },
  {
   "cell_type": "code",
   "execution_count": null,
   "metadata": {},
   "outputs": [],
   "source": []
  },
  {
   "cell_type": "markdown",
   "metadata": {},
   "source": [
    "### [ soution 3 ] "
   ]
  },
  {
   "cell_type": "code",
   "execution_count": null,
   "metadata": {},
   "outputs": [],
   "source": []
  },
  {
   "cell_type": "code",
   "execution_count": null,
   "metadata": {},
   "outputs": [],
   "source": []
  }
 ],
 "metadata": {
  "kernelspec": {
   "display_name": "Python 3",
   "language": "python",
   "name": "python3"
  },
  "language_info": {
   "codemirror_mode": {
    "name": "ipython",
    "version": 3
   },
   "file_extension": ".py",
   "mimetype": "text/x-python",
   "name": "python",
   "nbconvert_exporter": "python",
   "pygments_lexer": "ipython3",
   "version": "3.7.3"
  }
 },
 "nbformat": 4,
 "nbformat_minor": 2
}
