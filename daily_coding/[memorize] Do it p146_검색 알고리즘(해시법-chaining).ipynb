{
 "cells": [
  {
   "cell_type": "markdown",
   "metadata": {},
   "source": [
    "## 3장. 검색 알고리즘 - (3) 해시법"
   ]
  },
  {
   "cell_type": "markdown",
   "metadata": {},
   "source": [
    "### [ 1. 체인법 -  해시 함수 구현 ] \n",
    "\n",
    ": 해시값이 같은 원소를 `연결 리스트`로 관리\n",
    "\n",
    "\n",
    "* **Node** : 개별 버킷 - key, value, next           \n",
    "\n",
    "\n",
    "* **ChaineHash** : capacity, table              \n",
    "      \n",
    "    - `__init__` \n",
    "    - `hash_value`: 해시 함수 만들기 / 인수 key에 대응하는 해시값 구하기\n",
    "    - `search` : 키로 원소를 검색\n",
    "    - `add` : 원소를 추가\n",
    "    - `remove` : 원소를 삭제\n",
    "    - `dump` : 원소를 출력\n"
   ]
  },
  {
   "cell_type": "code",
   "execution_count": null,
   "metadata": {},
   "outputs": [],
   "source": [
    "from __future__ import annotations\n",
    "from typing import Any, Type\n",
    "import hashlib"
   ]
  },
  {
   "cell_type": "code",
   "execution_count": null,
   "metadata": {},
   "outputs": [],
   "source": [
    "class Node:\n",
    "    \"\"\"해시를 구성하는 노드\"\"\"\n",
    "\n",
    "    def __init__(self, key: Any, value: Any, next: Node) -> None:\n",
    "        \"\"\"초기화\"\"\"\n",
    "        self.key   = key    # 키\n",
    "        self.value = value  # 값\n",
    "        self.next  = next   # 뒤쪽 노드를 참조"
   ]
  },
  {
   "cell_type": "code",
   "execution_count": null,
   "metadata": {},
   "outputs": [],
   "source": [
    "class ChainedHash:\n",
    "    \"\"\"체인법을 해시 클래스 구현\"\"\"\n",
    "\n",
    "    def __init__(self, capacity: int) -> None:\n",
    "        \"\"\"초기화\"\"\"\n",
    "        self.capacity = capacity             # 해시 테이블의 크기를 지정\n",
    "        self.table = [None] * self.capacity  # 해시 테이블(리스트)을 선언\n",
    "\n",
    "        \n",
    "    def hash_value(self, key: Any) -> int:\n",
    "        \"\"\"해시값을 구함\"\"\"\n",
    "        if isinstance(key, int):        # 인스턴스가 특정 클래스/데이터 타입인지 검사해주는 함수\n",
    "            return key % self.capacity  # 키(원소값)을 원소 개수로 나눈 나머지\n",
    "        return(int(hashlib.sha256(str(key).encode()).hexdigest(), 16) % self.capacity)\n",
    "\n",
    "    \n",
    "    def search(self, key: Any) -> Any:\n",
    "        \"\"\"키가 key인 원소를 검색하여 값을 반환\"\"\"\n",
    "        hash = self.hash_value(key)  # 1. 해시함수를 이용하여 검색하는 키를 해시값으로 변환\n",
    "        p = self.table[hash]         # 2. hash value를 인덱스로 하는 버킷에 주목\n",
    "\n",
    "        while p is not None:     # 3. 버킷이 참조하는 연결리스트를 맨 앞부터 차례로 스캔\n",
    "            if p.key == key:       # key와 같은 값이 발견되면\n",
    "                 return p.value    # 검색 성공\n",
    "            p = p.next             # 뒤쪽 노드를 주목\n",
    "\n",
    "        return None                # 검색 실패\n",
    "\n",
    "    \n",
    "    def add(self, key: Any, value: Any) -> bool:\n",
    "        \"\"\"키가 key이고 값이 value인 원소를 삽입\"\"\"\n",
    "        hash = self.hash_value(key)  # 1. 해시함수를 이용하여삽입하는 키를 해시값으로 변환\n",
    "        p = self.table[hash]         # 2. 해시값을 인덱스로 하는 버킷에 주목\n",
    "\n",
    "        while p is not None:         # 3. 버킷이 참조하는 연결리스트를 맨 앞부터 차례로 스캔\n",
    "            if p.key == key:           # 키와 같은 값이 발견되면 키가 이미 등록된 경우이므로\n",
    "                return False           # 삽입 실패\n",
    "            p = p.next                 # 뒤쪽 노드에 주목\n",
    "\n",
    "        temp = Node(key, value, self.table[hash])    # 앞의 Node Class 사용\n",
    "        self.table[hash] = temp        # 발견되지 않으면 해시값인 리스트의 맨 앞에 노드를 삽입\n",
    "        return True                    # 삽입 성공\n",
    "\n",
    "    \n",
    "    def remove(self, key: Any) -> bool:\n",
    "        \"\"\"키가 key인 원소를 삭제\"\"\"\n",
    "        hash = self.hash_value(key)  # 1. 해시함수를 이용하여 삭제할 키를 해시값으로 변환\n",
    "        p = self.table[hash]         # 2. 해시값을 인덱스로 하는 버킷에 주목\n",
    "        pp = None                      # 바로 앞 주목 노드\n",
    "\n",
    "        while p is not None:         # 3. 버킷이 참조하는 연결리스트를 맨 앞부터 차례로 스캔\n",
    "            if p.key == key:           # `key를 발견하면 아래를 실행`\n",
    "                if pp is None:         # 바로 앞 노드가 비어있다면\n",
    "                    self.table[hash] = p.next   # 해시값을 인덱스로 하는 버킷에 뒷쪽 노드 넣기\n",
    "                else:                  # 비어있지 않다면\n",
    "                    pp.next = p.next   # 앞의 노드에 지금 노드를 넣으면\n",
    "                return True            # `key 삭제 성공`\n",
    "            pp = p\n",
    "            p = p.next                 # 뒤쪽 노드에 주목\n",
    "        return False                   # 삭제 실패(key가 존재하지 않음)\n",
    "\n",
    "    \n",
    "    def dump(self) -> None:           \n",
    "        \"\"\"해시 테이블을 덤프 (해시 테이블의 내용을 한꺼번에 통째로 출력)\"\"\"\n",
    "        for i in range(self.capacity):  \n",
    "            p = self.table[i]          # 1. hash_table의 모든 원소를 출력하는 작업을 반복\n",
    "            print(i, end='')\n",
    "            while p is not None:       # 2. i번째 버킷에 있는 값 모두 출력\n",
    "                print(f'  → {p.key} ({p.value})', end='')  # 해시 테이블에 있는 키와 값을 출력\n",
    "                p = p.next\n",
    "            print()"
   ]
  },
  {
   "cell_type": "markdown",
   "metadata": {},
   "source": [
    "🌟 key, value ------------[ hash_function ]--------------> hash_value\n",
    "\n",
    "\n",
    "* 해시값(hash_value): 키(원소값)을 원소 개수로 나눈 나머지\n",
    "\n",
    "\n",
    "* 해시테이블(hash_table): 해시값을 인덱스로 하여 원소를 새로 저장한 배열\n",
    "\n",
    "\n",
    "* 해시함수(hash_function): 키를 해시값으로 변환하는 과정\n",
    "\n",
    "\n",
    "* 버킷(bucket): 해시 테이블에서 만들어진 원소"
   ]
  },
  {
   "cell_type": "markdown",
   "metadata": {},
   "source": [
    "* 해시 테이블을 충분히 크게 만들면 충돌 발생을 억제할 수 있지만 이 방법은 메모리를 낭비\n",
    "  => 충돌을 피하려면 해시 함수가 해시 테이블 크기보다 작거나 같은 정수를 고르게 생성해야 함\n",
    "  => 해시 테이블의 크기는 소수를 선호\n",
    "  \n",
    "  \n",
    "---\n",
    "\n",
    "---"
   ]
  },
  {
   "cell_type": "markdown",
   "metadata": {},
   "source": [
    "### [ 2. 체인법 -  해시 함수 사용 ] \n",
    "\n"
   ]
  },
  {
   "cell_type": "code",
   "execution_count": null,
   "metadata": {},
   "outputs": [],
   "source": [
    "from enum import Enum\n",
    "from chained_hash import ChainedHash\n",
    "\n",
    "Menu = Enum('Menu', ['추가', '삭제', '검색', '덤프', '종료'])  # 메뉴를 선언\n",
    "\n",
    "# select_menu() 함수는 메뉴 5개를 출력한 뒤 1~5까지 정수를 입력받아 \n",
    "# 그 값에 대응하는 열거형의 값(Menu.추가, Menu.삭제, ... )\n",
    "def select_menu() -> Menu:  \n",
    "    \"\"\"메뉴 선택\"\"\"\n",
    "    s = [f'({m.value}){m.name}' for m in Menu]\n",
    "    while True:\n",
    "        print(*s, sep = '   ', end='')\n",
    "        n = int(input(': '))\n",
    "        if 1 <=  n <=  len(Menu):\n",
    "            return Menu(n)\n",
    "\n",
    "        \n",
    "###################################################################################\n",
    "\n",
    "hash = ChainedHash(13)     # 크기가 13인 해시 테이블을 생성\n",
    "                           # => key가 int형이므로 해시값은 키를 13으로 나눈 나머지 \n",
    "\n",
    "###################################################################################\n",
    "\n",
    "while True:\n",
    "    menu = select_menu()   # 메뉴 선택\n",
    "\n",
    "    if menu == Menu.추가:  # 추가\n",
    "        key = int(input('추가할 키를 입력하세요.: '))\n",
    "        val = input('추가할 값을 입력하세요.: ')\n",
    "        if not hash.add(key, val):\n",
    "            print('추가를 실패했습니다!')\n",
    "\n",
    "    elif menu == Menu.삭제:  # 삭제\n",
    "        key = int(input('삭제할 키를 입력하세요.: '))\n",
    "        if not hash.remove(key):\n",
    "            print('삭제를 실패했습니다!')\n",
    "\n",
    "    elif menu == Menu.검색:  # 검색\n",
    "        key = int(input('검색할 키를 입력하세요.: '))\n",
    "        t = hash.search(key)\n",
    "        if t is not None:\n",
    "            print(f'검색한 키를 갖는 값은 {t}입니다.')\n",
    "        else:\n",
    "            print('검색할 데이터가 없습니다.')\n",
    "\n",
    "    elif menu == Menu.덤프:  # 덤프\n",
    "        hash.dump()\n",
    "\n",
    "    else:  # 종료\n",
    "        break"
   ]
  },
  {
   "cell_type": "code",
   "execution_count": null,
   "metadata": {},
   "outputs": [],
   "source": []
  },
  {
   "cell_type": "code",
   "execution_count": null,
   "metadata": {},
   "outputs": [],
   "source": []
  },
  {
   "cell_type": "code",
   "execution_count": null,
   "metadata": {},
   "outputs": [],
   "source": []
  },
  {
   "cell_type": "code",
   "execution_count": null,
   "metadata": {},
   "outputs": [],
   "source": []
  },
  {
   "cell_type": "code",
   "execution_count": null,
   "metadata": {},
   "outputs": [],
   "source": []
  },
  {
   "cell_type": "code",
   "execution_count": null,
   "metadata": {},
   "outputs": [],
   "source": []
  },
  {
   "cell_type": "code",
   "execution_count": null,
   "metadata": {},
   "outputs": [],
   "source": []
  },
  {
   "cell_type": "code",
   "execution_count": null,
   "metadata": {},
   "outputs": [],
   "source": []
  },
  {
   "cell_type": "code",
   "execution_count": null,
   "metadata": {},
   "outputs": [],
   "source": []
  },
  {
   "cell_type": "code",
   "execution_count": null,
   "metadata": {},
   "outputs": [],
   "source": []
  }
 ],
 "metadata": {
  "kernelspec": {
   "display_name": "Python 3",
   "language": "python",
   "name": "python3"
  },
  "language_info": {
   "codemirror_mode": {
    "name": "ipython",
    "version": 3
   },
   "file_extension": ".py",
   "mimetype": "text/x-python",
   "name": "python",
   "nbconvert_exporter": "python",
   "pygments_lexer": "ipython3",
   "version": "3.7.3"
  }
 },
 "nbformat": 4,
 "nbformat_minor": 2
}
