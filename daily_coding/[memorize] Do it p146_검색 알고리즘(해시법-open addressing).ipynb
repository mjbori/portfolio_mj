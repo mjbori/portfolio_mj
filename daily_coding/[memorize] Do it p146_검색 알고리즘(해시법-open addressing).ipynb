{
 "cells": [
  {
   "cell_type": "markdown",
   "metadata": {},
   "source": [
    "## 3장. 검색 알고리즘 - (3) 해시법"
   ]
  },
  {
   "cell_type": "markdown",
   "metadata": {},
   "source": [
    "### [ 2. 오픈 주소법 -  해시 함수 구현 ] \n",
    "\n",
    ": `빈 버킷`을 찾을 때까지 해시를 반복\n",
    "\n",
    "\n",
    "* **Status** : 버킷의 속성\n",
    "\n",
    "* **Bucket** : 해시를 구성하는 버킷 구성\n",
    "\n",
    "* **OpenHash**: 해시 클래스(오픈 주소법 이용)"
   ]
  },
  {
   "cell_type": "code",
   "execution_count": 1,
   "metadata": {},
   "outputs": [],
   "source": [
    "from __future__ import annotations\n",
    "from typing import Any, Type\n",
    "from enum import Enum\n",
    "import hashlib"
   ]
  },
  {
   "cell_type": "code",
   "execution_count": 2,
   "metadata": {},
   "outputs": [],
   "source": [
    "# Status : 버킷의 속성\n",
    "\n",
    "class Status(Enum):\n",
    "    OCCUPIED = 0   # 데이터 저장  (숫자) \n",
    "    EMPTY = 1      # 비어 있음    (-)\n",
    "    DELETED = 2    # 삭제 완료    (⭐️)"
   ]
  },
  {
   "cell_type": "code",
   "execution_count": 3,
   "metadata": {},
   "outputs": [],
   "source": [
    "# Bucket : 해시를 구성하는 버킷 구성\n",
    "\n",
    "class Bucket:\n",
    "    \n",
    "    def __init__(self, key:Any=None, value:Any=None, stat:Status=Status.EMPTY)-> None:\n",
    "        # 초기화\n",
    "        self.key = key        # key\n",
    "        self.value = value    # value\n",
    "        self.stat = stat      # 속성\n",
    "        \n",
    "    def set(self, key:Any, value:Any, stat:Status)-> None:\n",
    "        # 모든 필드에 값을 설정\n",
    "        self.key = key        # key\n",
    "        self.value = value    # value\n",
    "        self.stat = stat      # 속성   \n",
    "        \n",
    "    def set_status(self, stat: Status) -> None:\n",
    "        # 속성을 설정\n",
    "        self.stat = stat"
   ]
  },
  {
   "cell_type": "code",
   "execution_count": null,
   "metadata": {},
   "outputs": [],
   "source": [
    "# OpenHash: 해시 클래스(오픈 주소법 이용)\n",
    "\n",
    "class OpenHash:\n",
    "    \n",
    "    def __init__(self, capacity:int)-> None:\n",
    "        # 초기화\n",
    "        self.capacity = capacity                  # 해시 테이블의 크기 지정\n",
    "        self.table = [Bucket()] * self.capacity   # 해시 테이블\n",
    "        \n",
    "    def hash_value(self, key:Any)-> int:\n",
    "        # 해시값을 구함\n",
    "        if isinstance(key, int):\n",
    "            return key % self.capacity  # key를 해시테이블의 크기로 나눠준 나머지\n",
    "        return(int(hashlib.md5(str(key).encode()).hexdigest(),16) % self.capacity)"
   ]
  },
  {
   "cell_type": "markdown",
   "metadata": {},
   "source": [
    "### [참고] 함수탐구\n",
    "\n",
    "1. isinstance(key, int): key가 int형이면 True, 아님 False\n",
    "\n",
    "2. encode = 코드화 = 암호화 / decode = 역 코드화 = 복호화\n",
    "\n",
    "3. 크롤링을 하는 중에 파일 경로의 중복을 막기위한 방법 중 md5 해시를 이용할 수 있다.\n",
    "\n",
    "> import hashlib                    \n",
    "  hashlib.md5(STRING)\n",
    "\n",
    "으로 md5로 변환을 한다.    변환 후 암호화를 위해서는 \n",
    "\n",
    "> hexdigest()        \n",
    "\n",
    "를 해준다.\n"
   ]
  },
  {
   "cell_type": "code",
   "execution_count": null,
   "metadata": {},
   "outputs": [],
   "source": []
  },
  {
   "cell_type": "code",
   "execution_count": null,
   "metadata": {},
   "outputs": [],
   "source": []
  },
  {
   "cell_type": "code",
   "execution_count": null,
   "metadata": {},
   "outputs": [],
   "source": []
  },
  {
   "cell_type": "code",
   "execution_count": null,
   "metadata": {},
   "outputs": [],
   "source": []
  },
  {
   "cell_type": "code",
   "execution_count": null,
   "metadata": {},
   "outputs": [],
   "source": []
  },
  {
   "cell_type": "code",
   "execution_count": null,
   "metadata": {},
   "outputs": [],
   "source": []
  },
  {
   "cell_type": "code",
   "execution_count": null,
   "metadata": {},
   "outputs": [],
   "source": []
  },
  {
   "cell_type": "code",
   "execution_count": null,
   "metadata": {},
   "outputs": [],
   "source": []
  }
 ],
 "metadata": {
  "kernelspec": {
   "display_name": "Python 3",
   "language": "python",
   "name": "python3"
  },
  "language_info": {
   "codemirror_mode": {
    "name": "ipython",
    "version": 3
   },
   "file_extension": ".py",
   "mimetype": "text/x-python",
   "name": "python",
   "nbconvert_exporter": "python",
   "pygments_lexer": "ipython3",
   "version": "3.7.3"
  }
 },
 "nbformat": 4,
 "nbformat_minor": 2
}
