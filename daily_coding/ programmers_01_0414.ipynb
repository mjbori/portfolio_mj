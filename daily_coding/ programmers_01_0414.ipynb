{
 "cells": [
  {
   "cell_type": "markdown",
   "metadata": {},
   "source": [
    "# [ programmers 01 ] 같은 숫자는 싫어\n",
    "\n",
    "### < 문제 설명 >\n",
    "배열 arr가 주어집니다. 배열 arr의 각 원소는 숫자 0부터 9까지로 이루어져 있습니다. 이때, 배열 arr에서 연속적으로 나타나는 숫자는 하나만 남기고 전부 제거하려고 합니다. 단, 제거된 후 남은 수들을 반환할 때는 배열 arr의 원소들의 순서를 유지해야 합니다. \n",
    "예를 들면,\n",
    "arr = [1, 1, 3, 3, 0, 1, 1] 이면 [1, 3, 0, 1] 을 return 합니다.\n",
    "arr = [4, 4, 4, 3, 3] 이면 [4, 3] 을 return 합니다.\n",
    "배열 arr에서 연속적으로 나타나는 숫자는 제거하고 남은 수들을 return 하는 solution 함수를 완성해 주세요.\n",
    "\n",
    "### < 제한사항 >\n",
    "배열 arr의 크기 : 1,000,000 이하의 자연수\n",
    "배열 arr의 원소의 크기 : 0보다 크거나 같고 9보다 작거나 같은 정수\n",
    "\n",
    "### < 입출력 예 >\n",
    "\n",
    "    (ex1) arr = [1,1,3,3,0,1,1],  answer = [1,3,0,1]\n",
    "    (ex2) arr = [4,4,4,3,3]\t   answer = [4,3]\n"
   ]
  },
  {
   "cell_type": "code",
   "execution_count": 19,
   "metadata": {},
   "outputs": [],
   "source": [
    "def solution(arr):\n",
    "    \n",
    "    answer = []\n",
    "    answer.append(arr[0])\n",
    "    # answer = [arr[0]]       # O(1)\n",
    "    \n",
    "    # O(n): 최대 크기가 O(100만(append의 시간복잡도의 시간복잡도))*5\n",
    "    for i in range(1,len(arr)):\n",
    "        if arr[i] != arr[i-1]:\n",
    "            answer.append(arr[i])\n",
    "    \n",
    "    return answer"
   ]
  },
  {
   "cell_type": "code",
   "execution_count": 21,
   "metadata": {},
   "outputs": [
    {
     "data": {
      "text/plain": [
       "[4, 3]"
      ]
     },
     "execution_count": 21,
     "metadata": {},
     "output_type": "execute_result"
    }
   ],
   "source": [
    "arr1 = [1,1,3,3,0,1,1]\n",
    "arr2 = [4,4,4,3,3]\n",
    "solution(arr2)"
   ]
  },
  {
   "cell_type": "code",
   "execution_count": 22,
   "metadata": {},
   "outputs": [
    {
     "name": "stdout",
     "output_type": "stream",
     "text": [
      "['1', '3', '0', '3']\n"
     ]
    }
   ],
   "source": [
    "'''다른 사람 풀이 1'''\n",
    "def no_continuous(s):\n",
    "    a = []\n",
    "    for i in s:\n",
    "        if a[-1:] == [i]: continue\n",
    "        a.append(i)\n",
    "    return a\n",
    "\n",
    "# 아래는 테스트로 출력해 보기 위한 코드입니다.\n",
    "print( no_continuous( \"133303\" ))"
   ]
  },
  {
   "cell_type": "code",
   "execution_count": 24,
   "metadata": {},
   "outputs": [
    {
     "name": "stdout",
     "output_type": "stream",
     "text": [
      "['1', '3', '0', '3']\n"
     ]
    }
   ],
   "source": [
    "'''다른 사람 풀이 2'''\n",
    "def solution(arr):\n",
    "   # answer = [arr[0]]    \n",
    "   # for i in range(1:len(arr)):\n",
    "   #     if arr[i-1]!=arr[i]:\n",
    "   #          answer.append(arr[i])\n",
    "    \n",
    "    answer = [arr[0]] + [arr[i] for i in range(1,len(arr)) if arr[i-1]!=arr[i]]\n",
    "    return answer\n",
    "\n",
    "print( solution( \"133303\" ))"
   ]
  },
  {
   "cell_type": "markdown",
   "metadata": {},
   "source": [
    "---\n",
    "---\n",
    "---"
   ]
  },
  {
   "cell_type": "markdown",
   "metadata": {},
   "source": [
    "# [ programmers 01 ] 같은 숫자는 싫어\n",
    "\n",
    "### < 문제 설명 >\n",
    "\n",
    "String형 배열 seoul의 element중 \"Kim\"의 위치 x를 찾아, \"김서방은 x에 있다\"는 String을 반환하는 함수, solution을 완성하세요. seoul에 \"Kim\"은 오직 한 번만 나타나며 잘못된 값이 입력되는 경우는 없습니다.\n",
    "\n",
    "### <제한 사항 >\n",
    "seoul은 길이 1 이상, 1000 이하인 배열입니다.\n",
    "seoul의 원소는 길이 1 이상, 20 이하인 문자열입니다.\n",
    "\"Kim\"은 반드시 seoul 안에 포함되어 있습니다.\n",
    "\n",
    "### <입출력 예 >\n",
    "    (ex) seoul = [\"Jane\", \"Kim\"] \treturn = \"김서방은 1에 있다\""
   ]
  },
  {
   "cell_type": "code",
   "execution_count": 26,
   "metadata": {},
   "outputs": [],
   "source": [
    "def solution(seoul):\n",
    "    \n",
    "    for i in range(len(seoul)):\n",
    "        if seoul[i]== 'Kim':\n",
    "             answer =  f'김서방은 {i}에 있다'\n",
    "        \n",
    "    return answer"
   ]
  },
  {
   "cell_type": "code",
   "execution_count": 27,
   "metadata": {},
   "outputs": [
    {
     "data": {
      "text/plain": [
       "'김서방은 1에 있다'"
      ]
     },
     "execution_count": 27,
     "metadata": {},
     "output_type": "execute_result"
    }
   ],
   "source": [
    "seoul = [\"Jane\", \"Kim\"]\n",
    "solution(seoul)"
   ]
  },
  {
   "cell_type": "code",
   "execution_count": 28,
   "metadata": {},
   "outputs": [
    {
     "name": "stdout",
     "output_type": "stream",
     "text": [
      "김서방은 2에 있다\n"
     ]
    }
   ],
   "source": [
    "'''다른 사람 풀이 1'''\n",
    "\n",
    "def findKim(seoul):\n",
    "    return \"김서방은 {}에 있다\".format(seoul.index('Kim'))\n",
    "\n",
    "\n",
    "# 실행을 위한 테스트코드입니다.\n",
    "print(findKim([\"Queen\", \"Tod\", \"Kim\"]))"
   ]
  },
  {
   "cell_type": "code",
   "execution_count": 34,
   "metadata": {},
   "outputs": [
    {
     "name": "stdout",
     "output_type": "stream",
     "text": [
      "김서방은 2에 있다\n"
     ]
    }
   ],
   "source": [
    "'''다른 사람 풀이 2'''\n",
    "\n",
    "def solution(seoul):\n",
    "    answer = f' 김서방은 {seoul.index(\"Kim\")}에 있다'\n",
    "    return answer\n",
    "        \n",
    "# 실행을 위한 테스트코드입니다.\n",
    "print(findKim([\"Queen\", \"Tod\", \"Kim\"]))"
   ]
  },
  {
   "cell_type": "markdown",
   "metadata": {},
   "source": [
    "---\n",
    "---\n",
    "---"
   ]
  },
  {
   "cell_type": "markdown",
   "metadata": {},
   "source": [
    "# [ programmers 01 ] 소수 개수 찾기\n",
    "\n",
    "### < 문제 설명 >\n",
    "1부터 입력받은 숫자 n 사이에 있는 소수의 개수를 반환하는 함수, solution을 만들어 보세요.\n",
    "\n",
    "소수는 1과 자기 자신으로만 나누어지는 수를 의미합니다.\n",
    "(1은 소수가 아닙니다.)\n",
    "\n",
    "### < 제한 조건 >\n",
    "n은 2이상 1000000이하의 자연수입니다.\n",
    "입출력 예\n",
    "n\tresult\n",
    "10\t4\n",
    "5\t3\n",
    "\n",
    "### < 입출력 예 설명 >\n",
    "입출력 예 #1\n",
    "1부터 10 사이의 소수는 [2,3,5,7] 4개가 존재하므로 4를 반환\n",
    "\n",
    "입출력 예 #2\n",
    "1부터 5 사이의 소수는 [2,3,5] 3개가 존재하므로 3를 반환"
   ]
  },
  {
   "cell_type": "code",
   "execution_count": 70,
   "metadata": {},
   "outputs": [],
   "source": [
    "'''망함!!'''\n",
    "\n",
    "def solution(n):\n",
    "    \n",
    "    answer = n\n",
    "    not_prime = 1\n",
    "    \n",
    "    for i in range(2,n+1):      # 2 ~ n 까지의 수 살펴보기\n",
    "        for j in range(2,i):  # 2 ~ i-1 중에 나눠지는 i 모으기\n",
    "            if i % j == 0:  \n",
    "                break\n",
    "            not_prime +=1\n",
    "        \n",
    "    print(answer, not_prime)\n",
    "                                    \n",
    "    return answer - not_prime"
   ]
  },
  {
   "cell_type": "code",
   "execution_count": 71,
   "metadata": {},
   "outputs": [
    {
     "name": "stdout",
     "output_type": "stream",
     "text": [
      "10 8\n"
     ]
    },
    {
     "data": {
      "text/plain": [
       "2"
      ]
     },
     "execution_count": 71,
     "metadata": {},
     "output_type": "execute_result"
    }
   ],
   "source": [
    "solution(10)"
   ]
  },
  {
   "cell_type": "code",
   "execution_count": null,
   "metadata": {},
   "outputs": [],
   "source": [
    "'''조금 더 고민'''\n",
    "def solution(n):\n",
    "    answer = 0\n",
    "    \n",
    "    # 1~n 중 소수가 아닌것 개수 세기 -> 1 애초에 제외 \n",
    "    # 소수에는 1과 짝수가 없음\n",
    "    for i in range(,n+1):\n",
    "        for j in range()\n",
    "        if i % \n",
    "        \n",
    "    \n",
    "    return answer"
   ]
  },
  {
   "cell_type": "markdown",
   "metadata": {},
   "source": [
    "##  Hint!!\n",
    "에라토스테네스의 체 활용\n",
    "~sqrt(n)의 수까지의 배수들을 지워나가기!!"
   ]
  },
  {
   "cell_type": "code",
   "execution_count": null,
   "metadata": {},
   "outputs": [],
   "source": [
    "'''다른 사람 코드 - 동적 프로그래밍(미리 만들어놓고 채워넣기)'''\n",
    "def solution(n):\n",
    "    answer = [False] + [False] * n  \n",
    "    \n",
    "    for i in range(2, int(n**0.5)+1):\n",
    "        for j in range(2, n//i+1):\n",
    "            answer[i*j] = True\n",
    "    \n",
    "    return answer.count(False)-2"
   ]
  },
  {
   "cell_type": "code",
   "execution_count": 80,
   "metadata": {},
   "outputs": [],
   "source": [
    "''' set으로 풀기'''\n",
    "\n",
    "def solution(n):\n",
    "    answer = set([i for i in range(3,n+1,2)]) # 3부터  n미만의 수 중 홀수\n",
    "    for i in range(3, n+1, 2):\n",
    "        if i in answer:\n",
    "            answer -= set([i for i in range(i*2, n+1, i)])\n",
    "    return len(answer)+1   # 소수 2인 1개 추가  "
   ]
  },
  {
   "cell_type": "code",
   "execution_count": 81,
   "metadata": {},
   "outputs": [
    {
     "data": {
      "text/plain": [
       "4"
      ]
     },
     "execution_count": 81,
     "metadata": {},
     "output_type": "execute_result"
    }
   ],
   "source": [
    "solution(10)"
   ]
  },
  {
   "cell_type": "markdown",
   "metadata": {},
   "source": [
    "---\n",
    "---\n",
    "---"
   ]
  },
  {
   "cell_type": "markdown",
   "metadata": {},
   "source": [
    "# [ programmers 01 ] 가운데 글자 가져오기\n",
    "\n",
    "\n",
    "### < 문제 설명 >\n",
    "단어 s의 가운데 글자를 반환하는 함수, solution을 만들어 보세요. 단어의 길이가 짝수라면 가운데 두글자를 반환하면 됩니다.\n",
    "\n",
    "### < 제한사항 >\n",
    "s는 길이가 1 이상, 100이하인 스트링입니다.\n",
    "\n",
    "### < 입출력 예 >\n",
    "      s  \treturn\n",
    "    \"abcde\"\t\"c\"\n",
    "    \"qwer\"\t\"we\"\n"
   ]
  },
  {
   "cell_type": "code",
   "execution_count": 92,
   "metadata": {},
   "outputs": [],
   "source": [
    "def solution(s):\n",
    "    answer = ''\n",
    "    for i in range(len(s)):\n",
    "        if len(s)%2 != 0: answer=s[i//2]\n",
    "        else: answer=s[i//2]+s[i//2+1]\n",
    "    return answer"
   ]
  },
  {
   "cell_type": "code",
   "execution_count": 88,
   "metadata": {},
   "outputs": [
    {
     "data": {
      "text/plain": [
       "'c'"
      ]
     },
     "execution_count": 88,
     "metadata": {},
     "output_type": "execute_result"
    }
   ],
   "source": [
    "solution(\"abcde\")"
   ]
  },
  {
   "cell_type": "code",
   "execution_count": 93,
   "metadata": {},
   "outputs": [
    {
     "data": {
      "text/plain": [
       "'we'"
      ]
     },
     "execution_count": 93,
     "metadata": {},
     "output_type": "execute_result"
    }
   ],
   "source": [
    "solution(\"qwer\")"
   ]
  },
  {
   "cell_type": "code",
   "execution_count": 96,
   "metadata": {},
   "outputs": [
    {
     "name": "stdout",
     "output_type": "stream",
     "text": [
      "w\n",
      "ab\n"
     ]
    }
   ],
   "source": [
    "'''다른 사람 풀이'''\n",
    "def string_middle(str):\n",
    "    return str[(len(str)-1)//2:len(str)//2+1]\n",
    "\n",
    "# 아래는 테스트로 출력해 보기 위한 코드입니다.\n",
    "print(string_middle(\"power\"))\n",
    "print(string_middle(\"qabr\"))"
   ]
  },
  {
   "cell_type": "code",
   "execution_count": null,
   "metadata": {},
   "outputs": [],
   "source": []
  },
  {
   "cell_type": "markdown",
   "metadata": {},
   "source": [
    "---\n",
    "---\n",
    "---"
   ]
  },
  {
   "cell_type": "markdown",
   "metadata": {},
   "source": [
    "# [ programmers 01 ] 3진법 뒤집기\n",
    "\n",
    "\n",
    "### < 문제 설명 >\n",
    "자연수 n이 매개변수로 주어집니다. n을 3진법 상에서 앞뒤로 뒤집은 후, 이를 다시 10진법으로 표현한 수를 return 하도록 solution 함수를 완성해주세요.\n",
    "\n",
    "### < 제한사항 >\n",
    "n은 1 이상 100,000,000 이하인 자연수입니다.\n",
    "\n",
    "### < 입출력 예 >\n",
    "    n\tresult\n",
    "    45\t7\n",
    "    125\t229\n",
    "\n",
    "### < 입출력 예 설명 >\n",
    "    입출력 예 #1\n",
    "\n",
    "    답을 도출하는 과정은 다음과 같습니다.\n",
    "    n (10진법)\tn (3진법)\t앞뒤 반전(3진법)\t10진법으로 표현\n",
    "         45        \t1200\t     0021\t           7\n",
    "    따라서 7을 return 해야 합니다.\n",
    "    \n",
    "    입출력 예 #2\n",
    "\n",
    "    답을 도출하는 과정은 다음과 같습니다.\n",
    "    n (10진법)\tn (3진법)\t앞뒤 반전(3진법)\t10진법으로 표현\n",
    "        125\t        11122\t     22111\t           229\n",
    "    따라서 229를 return 해야 합니다."
   ]
  },
  {
   "cell_type": "code",
   "execution_count": null,
   "metadata": {},
   "outputs": [],
   "source": [
    "import math\n",
    "\n",
    "def solution(n):\n",
    "    answer = 0\n",
    "    # 10진법 -> 3진법 (3으로 나눈 나머지들 거꾸로)\n",
    "    \n",
    "    while \n",
    "            \n",
    "            \n",
    "    # 3진법 뒤집기 (or 위에거랑 같이 해도 될듯)\n",
    "    \n",
    "    # 3진법 -> 10진법 (각자리 수에 * 3의 거듭제곱)\n",
    "    \n",
    "    \n",
    "    return answer"
   ]
  },
  {
   "cell_type": "code",
   "execution_count": null,
   "metadata": {},
   "outputs": [],
   "source": [
    "'''다른 사람 풀이'''\n",
    "\n",
    "def solution(n):\n",
    "    answer= 0\n",
    "    num = []\n",
    "    \n",
    "    # n = 27, 9, 3, 1\n",
    "    while n > 0:\n",
    "        nums.append(n%3)\n",
    "        # 27%3 = 0, 9%3=0, 3%3=0, 1%3=1\n",
    "        n = n//3\n",
    "        # 27//3=9, 9//3=3, 3//3=1, 1//3=0 while문 탈출\n",
    "        \n",
    "    # nums = [0,0,0,1]\n",
    "    nums.reverse()\n",
    "    # nums = [1,0,0,0]\n",
    "    \n",
    "    for i, val in enumerate(nums):\n",
    "        # (i, val) = (0,1), (1,0), (2,0), (3,0)\n",
    "        answer += val*(3**i)\n",
    "        \n",
    "    return answer\n",
    "        "
   ]
  },
  {
   "cell_type": "code",
   "execution_count": null,
   "metadata": {},
   "outputs": [],
   "source": [
    "def solution(n):\n",
    "    answer= 0\n",
    "    num = []\n",
    "    \n",
    "    # n = 27, 9, 3, 1\n",
    "    while n > 0:\n",
    "        nums.append(n%3)\n",
    "        # 27%3 = 0, 9%3=0, 3%3=0, 1%3=1\n",
    "        n = n//3\n",
    "        # 27//3=9, 9//3=3, 3//3=1, 1//3=0 while문 탈출\n",
    "    \n",
    "    for i, val in enumerate(nums[::-1]):\n",
    "        answer += val*3**i\n",
    "        \n",
    "    return answer"
   ]
  },
  {
   "cell_type": "code",
   "execution_count": 104,
   "metadata": {},
   "outputs": [
    {
     "name": "stdout",
     "output_type": "stream",
     "text": [
      "229\n"
     ]
    }
   ],
   "source": [
    "'''다른사람 풀이'''\n",
    "\n",
    "def solution(n):\n",
    "    tmp = ''\n",
    "    while n:\n",
    "        tmp += str(n % 3)\n",
    "        n = n // 3\n",
    "\n",
    "    answer = int(tmp, 3)\n",
    "    return answer\n",
    "\n",
    "print(solution(125))"
   ]
  },
  {
   "cell_type": "code",
   "execution_count": null,
   "metadata": {},
   "outputs": [],
   "source": []
  },
  {
   "cell_type": "code",
   "execution_count": null,
   "metadata": {},
   "outputs": [],
   "source": []
  },
  {
   "cell_type": "code",
   "execution_count": null,
   "metadata": {},
   "outputs": [],
   "source": []
  },
  {
   "cell_type": "code",
   "execution_count": null,
   "metadata": {},
   "outputs": [],
   "source": []
  },
  {
   "cell_type": "code",
   "execution_count": null,
   "metadata": {},
   "outputs": [],
   "source": []
  }
 ],
 "metadata": {
  "kernelspec": {
   "display_name": "Python 3",
   "language": "python",
   "name": "python3"
  },
  "language_info": {
   "codemirror_mode": {
    "name": "ipython",
    "version": 3
   },
   "file_extension": ".py",
   "mimetype": "text/x-python",
   "name": "python",
   "nbconvert_exporter": "python",
   "pygments_lexer": "ipython3",
   "version": "3.8.5"
  }
 },
 "nbformat": 4,
 "nbformat_minor": 4
}
